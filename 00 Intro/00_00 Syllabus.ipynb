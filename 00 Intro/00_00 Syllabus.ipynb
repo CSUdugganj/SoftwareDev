{
 "cells": [
  {
   "cell_type": "markdown",
   "metadata": {},
   "source": [
    "# Software Development for Engineers"
   ]
  },
  {
   "cell_type": "markdown",
   "metadata": {},
   "source": [
    "## Prerequisites\n",
    "* Basic Python knowlege\n",
    "* Technical background"
   ]
  },
  {
   "cell_type": "markdown",
   "metadata": {},
   "source": [
    "## Textbook\n",
    "There is no requred text for this course.  Instead, the material will be presented as a series of jupyter notebooks.\n",
    "### Supplimental material"
   ]
  },
  {
   "cell_type": "markdown",
   "metadata": {},
   "source": [
    "## Syllabus\n",
    "### Description\n",
    "Software development principles for engineers (or others who have a technical background) with little formal software development training.\n",
    "### Overview\n",
    "Engineers and other technical professionals are expected to be able to write software as part of their jobs.  This software may be a simulation, analyze some data, or perform scripting for a software tool.  Unfortunately, most non Computer Science undergraduate programs provide very little training on how to write software effectively.  Students may have taken a course in beginning programming courses using languages like Python or Matlab, or some basic data analysis using Excel.  Such high-level exposure does not prepare students for writing software that is maintainable, scalable, and tested.  It also does not provide skills necessary for developing software as part of a team -- effective software documentation, version control and collaboration tools, structured software development processes.\n",
    "### Course Objectives\n",
    "By the end of the course, students should be able to:\n",
    "* Write software that is well-structured, tested, and maintainable.\n",
    "* Contribute software to team projects using modern tools and software development processes.\n",
    "* Understand basic data handling principles -- selecting, transforming, and merging data -- at different scales of data.\n",
    "* Understand when and how to apply parallel programming techniques to improve performance of applications.\n",
    "\n",
    "### Audience\n",
    "This course is geared toward graduate students and undergraduate seniors in engineering or science disciplines who are expected to write software as an ancillary part of their job.  \n",
    "### Implementation Language\n",
    "It is impossible to learn how to develop software without writing software.  Writing software requires a programming language.  This course uses Python as its implementation language, and will spend some time teaching how to use it effectively.  However, other topics in the course such team software development, data handling, and parallel programming, are not dependent on implementation language and can be used with other implementation languages."
   ]
  },
  {
   "cell_type": "code",
   "execution_count": null,
   "metadata": {},
   "outputs": [],
   "source": []
  }
 ],
 "metadata": {
  "kernelspec": {
   "display_name": "Python 3",
   "language": "python",
   "name": "python3"
  },
  "language_info": {
   "codemirror_mode": {
    "name": "ipython",
    "version": 3
   },
   "file_extension": ".py",
   "mimetype": "text/x-python",
   "name": "python",
   "nbconvert_exporter": "python",
   "pygments_lexer": "ipython3",
   "version": "3.7.4"
  }
 },
 "nbformat": 4,
 "nbformat_minor": 4
}

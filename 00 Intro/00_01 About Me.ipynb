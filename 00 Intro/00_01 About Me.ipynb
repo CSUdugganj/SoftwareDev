{
 "cells": [
  {
   "cell_type": "markdown",
   "metadata": {},
   "source": [
    "# Software Development for Engineers"
   ]
  },
  {
   "cell_type": "markdown",
   "metadata": {},
   "source": [
    "## About the Instructor\n",
    "My name is Jerry Duggan, and professionally I consider myself a software developer.  I have been getting paid to write software since 1979, first in student jobs, then working for a large IT equipment manufacturer, then as a consultant and in academia.  I have worked on software teams as a developer, technical lead, architect, and manager. Languages I have used to develop non-trivial applications include:\n",
    "* FORTRAN\n",
    "* Pascal\n",
    "* Lisp\n",
    "* C & C++\n",
    "* Java\n",
    "* C#\n",
    "* Python\n",
    "\n",
    "I have also been exposed / written at least one line of code in the following:\n",
    "* Basic\n",
    "* APL\n",
    "* Assembly languages for IBM 360, PDP-10 and 11, Motorola 68000, Intel x86\n",
    "* Shell scripting languages (bash, ksh, windows cmd, Powershell)\n",
    "* Prolog\n",
    "* ALGOL\n",
    "* Matlab & Simulink\n",
    "* Scheme\n",
    "* COBOL\n",
    "* R\n",
    "* Ruby / Rails\n",
    "* Ladder logic\n",
    "* Javascript\n",
    "\n",
    "I have also written code in the following declarative languages:\n",
    "* SQL\n",
    "* HTML\n",
    "* MOF\n",
    "* IDL for Sun RPC, DCE, CORBA"
   ]
  },
  {
   "cell_type": "markdown",
   "metadata": {},
   "source": [
    "## Coding Philosophy\n",
    "* Maintainable\n",
    "* Readable\n",
    "* Avoid tricky code\n",
    "* Performant\n",
    "* Stick to \"standard\" language features for production code"
   ]
  },
  {
   "cell_type": "markdown",
   "metadata": {},
   "source": [
    "## Quotes\n",
    "\n",
    "Always code as if the guy who ends up maintaining your code will be a violent psychopath who knows where you live.\n",
    "[John Woods](https://groups.google.com/forum/#!msg/comp.lang.c++/rYCO5yn4lXw/oITtSkZOtoUJ)\n",
    "\n",
    "For a designer, *perfection is finally attained not when there is no longer anything to add, but when there is no longer anything to take away*.\n",
    "[Antoine de Saint-Exupéry](https://books.google.com/books?id=nIOZdLHReUMC&pg=PA39&dq=%22perfection+is+finally+attained+not+when+there+is+no+longer+anything+to+add,+but+when+there+is+no+longer+anything+to+take+away.%22&hl=en&sa=X&ved=0ahUKEwi_o4mK1bniAhUI26wKHQ1fCD4Q6AEIKjAA#v=onepage&q=%22perfection%20is%20finally%20attained%20not%20when%20there%20is%20no%20longer%20anything%20to%20add%2C%20but%20when%20there%20is%20no%20longer%20anything%20to%20take%20away.%22&f=false)"
   ]
  },
  {
   "cell_type": "markdown",
   "metadata": {},
   "source": [
    "## Software development process\n",
    "* Coding standards\n",
    "* Coding style / idioms\n",
    "* Code reading\n",
    "* Unit tests\n",
    "* Automated build\n",
    "* Defect tracking"
   ]
  }
 ],
 "metadata": {
  "kernelspec": {
   "display_name": "Python 3",
   "language": "python",
   "name": "python3"
  },
  "language_info": {
   "codemirror_mode": {
    "name": "ipython",
    "version": 3
   },
   "file_extension": ".py",
   "mimetype": "text/x-python",
   "name": "python",
   "nbconvert_exporter": "python",
   "pygments_lexer": "ipython3",
   "version": "3.7.4"
  }
 },
 "nbformat": 4,
 "nbformat_minor": 4
}

{
 "cells": [
  {
   "cell_type": "markdown",
   "metadata": {},
   "source": [
    "# Software Development for Engineers"
   ]
  },
  {
   "cell_type": "markdown",
   "metadata": {},
   "source": [
    "## Patterns, Anti-patterns, and Anti-Anti-patterns\n",
    "\n",
    "[Anti-Patterns](https://docs.quantifiedcode.com/python-anti-patterns/index.html)\n",
    "\n",
    "Good advice\n",
    "* [Don't use type() to compare types](https://docs.quantifiedcode.com/python-anti-patterns/readability/do_not_compare_types_use_isinstance.html) -- doesn't work for subtypes.\n",
    "* [Not using dict keys when formatting](https://docs.quantifiedcode.com/python-anti-patterns/readability/not_using_dict_keys_when_formatting_strings.html) -- works for f\"\" strings, as well.\n",
    "* [Not using items() to iterate over a dictionary](https://docs.quantifiedcode.com/python-anti-patterns/readability/not_using_items_to_iterate_over_a_dictionary.html)\n",
    "* [Not using unpacking for updating multiple values at once](https://docs.quantifiedcode.com/python-anti-patterns/readability/not_using_unpacking_for_updating_multiple_values_at_once.html)\n",
    "* [Not using zip() to iterate over a pair of lists](https://docs.quantifiedcode.com/python-anti-patterns/readability/not_using_zip_to_iterate_over_a_pair_of_lists.html)\n",
    "* [Putting type information in a variable name](https://docs.quantifiedcode.com/python-anti-patterns/readability/putting_type_information_in_a_variable_name.html)\n",
    "* [Using an unpythonic loop](https://docs.quantifiedcode.com/python-anti-patterns/readability/using_an_unpythonic_loop.html) -- even though it uses the term pythonic\n",
    "* [Using key in list to check if key is contained in list](https://docs.quantifiedcode.com/python-anti-patterns/performance/using_key_in_list_to_check_if_key_is_contained_in_a_list.html) -- Use a dict or set instead"
   ]
  },
  {
   "cell_type": "markdown",
   "metadata": {},
   "source": [
    "Anti-Anti-Patterns\n",
    "* [Excessive EAFP](https://docs.quantifiedcode.com/python-anti-patterns/readability/asking_for_permission_instead_of_forgiveness_when_working_with_files.html)\n",
    "* [Dict comprehension](https://docs.quantifiedcode.com/python-anti-patterns/readability/not_using_a_dict_comprehension.html)\n",
    "* [Not using named tuples when returning more than one value from a function](https://docs.quantifiedcode.com/python-anti-patterns/readability/not_using_named_tuples_when_returning_more_than_one_value.html) -- yes and no.  If just returning multiple values from a function, use:\n",
    "\n",
    "v1, v2, v3 = fun()\n",
    "* [Using map() or filter() where list comprehension is possible](https://docs.quantifiedcode.com/python-anti-patterns/readability/using_map_or_filter_where_list_comprehension_is_possible.html)\n",
    "* [Using CamelCase in function names](https://docs.quantifiedcode.com/python-anti-patterns/readability/using_camelcase_in_function_names.html)"
   ]
  },
  {
   "cell_type": "code",
   "execution_count": null,
   "metadata": {},
   "outputs": [],
   "source": []
  }
 ],
 "metadata": {
  "kernelspec": {
   "display_name": "Python 3",
   "language": "python",
   "name": "python3"
  },
  "language_info": {
   "codemirror_mode": {
    "name": "ipython",
    "version": 3
   },
   "file_extension": ".py",
   "mimetype": "text/x-python",
   "name": "python",
   "nbconvert_exporter": "python",
   "pygments_lexer": "ipython3",
   "version": "3.6.5"
  }
 },
 "nbformat": 4,
 "nbformat_minor": 2
}

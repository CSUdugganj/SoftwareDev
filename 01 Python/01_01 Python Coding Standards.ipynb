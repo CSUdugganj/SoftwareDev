{
 "cells": [
  {
   "cell_type": "markdown",
   "metadata": {},
   "source": [
    "# Software Development for Engineers"
   ]
  },
  {
   "cell_type": "markdown",
   "metadata": {},
   "source": [
    "## Coding standards\n",
    "Coding standards are very important for a software development team.  They provide a context for understanding other developer's code.  Ironically, the details of the coding standards do not matter too much -- it is far more important for the standards to be applied consistently "
   ]
  },
  {
   "cell_type": "markdown",
   "metadata": {},
   "source": [
    "## The basics -- PEP-8\n",
    "[PEP-8](https://www.python.org/dev/peps/pep-0008) is the accepted standard for Python coding style.  It is reasonably complete.  I have a few additional comments on its content, and / or points where I blatantly violate PEP-8.\n",
    "\n",
    "### Indentation\n",
    "Indentation is syntactically important in Python -- blocks are defined by successive levels of indentation (C / C++ use curly braces for this).  When I first started developing in Python, I made the mistake of editing some code in a regular text editor, and mixed up using spaces and tabs for indentation.  This was a major mistake -- Python barfs hard when this happens.  Then I started using a Python-aware editor, and the problem went away.  Plus, dealing with indentation as a syntactic construct became easy.  Moral of the story: use the proper tool for the job.  Once you go to a real Python IDE, the issue is moot.\n",
    "\n",
    "### Maximum Line Length\n",
    "\n",
    "I don't like using a back slash for line continuation.  I will do it if I have to, but only as a last resort.\n",
    "\n",
    "### Imports\n",
    "\n",
    "Do not use \"import star\":\n",
    "\n",
    "`from datetime import *`\n",
    "\n",
    "This will import all the symbols from the package (in this case datetime), and allow them to be used with no qualifiers.  The problem is, you will not be able to tell where the symbols came from.\n",
    "\n",
    "Import from only a single package per import statement.  In other words, do not do this:\n",
    "\n",
    "`import os, datetime`\n",
    "\n",
    "Instead, use separate import statements:\n",
    "\n",
    "`import os`\n",
    "\n",
    "`import datetime`\n",
    "\n",
    "It is perfectly OK to import multiple symbols from a single package on a single line:\n",
    "\n",
    "`from datetime import datetime, timedelta`\n",
    "\n",
    "And I generally pefer to import packages with an alias, then use the alias to qualify the symbol:\n",
    "\n",
    "`import pandas as pd`\n",
    "\n",
    "`myDF = pd.DataFrame()`\n",
    "\n",
    "Finally, PEP-8 goes defines the preferred order of imports.  I generally ignore this.\n",
    "\n",
    "### String quotes\n",
    "\n",
    "Python treats a single quote and a double quote identically.  PEP-8 says to choose one and use it consistently.  I have to admit that I use them interchangeably, thus violating PEP-8.\n",
    "\n",
    "### Naming conventions\n",
    "\n",
    "I am a fan of camel case -- that is, names with capitalized words smooshed together.  Whether the initial letter is capitalized depends on whether it is a variable name or a type name.  For example:\n",
    "\n",
    "`myVariable`\n",
    "\n",
    "`ThisIsAClass`\n",
    "\n",
    "#### Package and module names\n",
    "PEP-8 recommends package names be all lower case.  I use camel case, with the first letter capitalized, for package names.\n",
    "\n",
    "\n",
    "### Function and variable names\n",
    "PEP-8 recommends function and variable names should be lowercase, with words separated by underscores.  I use camel case, with the initial letter lower case, for both function and variable names.\n",
    "\n",
    "### Method names and instance variables\n",
    "Again, PEP-8 recommends method names and instance variables be lower case with words separated by underscores.  I prefer camel case, with initial letters lowercase.  PEP-8 also recommends prefixing non-public methods and instance variables with a single underscore.  I agree with this.\n",
    "\n",
    "### Constants\n",
    "PEP-8 recommends constants be defined on a module level, written in all capital letters with underscores separating words.  I agree with this.\n",
    "\n",
    "Examples:\n",
    "\n",
    "`SECONDS_PER_MINUTE = 60`\n",
    "\n",
    "`MINUTES_PER_HOUR = 60`\n",
    "\n",
    "`SECONDS_PER_HOUR = SECONDS_PER_MINUTE * MINUTES_PER_HOUR`\n",
    "\n",
    "The above example also illustrates that that I am perfectly happy having Python calculate constants for me.\n",
    "\n",
    "Note that I see a difference between constants and configuration variables.  Constants should be just that -- quantities that never change.  Physical constants are a good example of this.  Configuration variables are variables whose values can change from run to run, such as output directories, input file names, etc., and should be put into configuration files.  See the section on [Config files](#configFiles)"
   ]
  },
  {
   "cell_type": "markdown",
   "metadata": {},
   "source": [
    "## File structure"
   ]
  },
  {
   "cell_type": "markdown",
   "metadata": {},
   "source": [
    "## Don't Repeat Yourself (DRY)"
   ]
  },
  {
   "cell_type": "markdown",
   "metadata": {},
   "source": [
    "## Avoid list / dictionary comprehension"
   ]
  },
  {
   "cell_type": "markdown",
   "metadata": {},
   "source": [
    "## Iteration"
   ]
  },
  {
   "cell_type": "markdown",
   "metadata": {},
   "source": [
    "## Globals / constants"
   ]
  },
  {
   "cell_type": "markdown",
   "metadata": {},
   "source": [
    "## <a name=\"configFiles\"></a>Config files & command line arguments\n"
   ]
  },
  {
   "cell_type": "markdown",
   "metadata": {},
   "source": [
    "## Monkey patching"
   ]
  }
 ],
 "metadata": {
  "kernelspec": {
   "display_name": "Python 3",
   "language": "python",
   "name": "python3"
  },
  "language_info": {
   "codemirror_mode": {
    "name": "ipython",
    "version": 3
   },
   "file_extension": ".py",
   "mimetype": "text/x-python",
   "name": "python",
   "nbconvert_exporter": "python",
   "pygments_lexer": "ipython3",
   "version": "3.6.5"
  }
 },
 "nbformat": 4,
 "nbformat_minor": 2
}

{
 "cells": [
  {
   "cell_type": "markdown",
   "metadata": {},
   "source": [
    "# Software Development for Engineers"
   ]
  },
  {
   "cell_type": "markdown",
   "metadata": {},
   "source": [
    "## Python Intro\n",
    "I have been using Python to develop deployable applications since 2015.  I find it a very powerful language, with many interesting features.  It is also fairly mature, which means (a) there is a lot of good documentation available for it; and (b) there are a tremendous number of libraries available for it.  This is a mixed bag, however, as it means that (a) it can be overwhelming for new practitioners to figure out how the most effective tools / features to use; and (b) sometimes a language feature or library is not useful, or even detrimental to good coding practice if used incorrectly.  \n",
    "\n",
    "Python is easy to learn -- particularly for non-computer professionals.  I have taught Python programming to high school students, undergraduates, and graduate students.  It is very easy for these students to pick up the basics of Python in a few days.\n",
    "\n",
    "### Python features I love\n",
    "* Read Eval Print Loop (REPL)\n",
    "* Dictionaries & sets\n",
    "* Generators\n",
    "* Lambda expressions & function arguments\n",
    "* Duck typing\n",
    "* Context managers\n",
    "* Pandas\n",
    "\n",
    "### Python features I don't like so much\n",
    "* Indentation syntax\n",
    "* List & dictionary comprehension\n",
    "* The word 'pythonic'\n",
    "* People who wax rapsodic about \"beautiful python\" or otherwise compare Python to some mystical experience."
   ]
  },
  {
   "cell_type": "markdown",
   "metadata": {},
   "source": [
    "## Python versioning\n",
    "I use version 3 exclusively, and this course is written around it.  I also prefer version 3.7, which can be problematic on Ubuntu linux, as the default version available on that platform is 3.5.\n",
    "\n",
    "Unless you have a lot of legacy code written in Python 2, do not use it."
   ]
  },
  {
   "cell_type": "markdown",
   "metadata": {},
   "source": [
    "## Python performance\n",
    "Python is an interpreted language.  This means that a Python program will be compiled into a series of byte codes, which are then interpreted by a virtual machine.  The net effect of this is that executing a Python program will be extremely slow compared to an application written in a different language that get compiled to machine code directly.  I don't have exact numbers, but for the sake of discussion say that this is a 100x difference.\n",
    "\n",
    "This is not as bad as it sounds, for three reasons:\n",
    "1. Computers are fast enough that for most tasks the 100x difference doesn't matter.\n",
    "2. Python can integrate into C / C++ libraries for performance critical modules.\n",
    "3. High developer productivity offsets performance issues."
   ]
  },
  {
   "cell_type": "markdown",
   "metadata": {},
   "source": [
    "## Python development environments\n",
    "\n",
    "This course information is written and delivered as a series of jupyter notebooks.  Jupyter notebooks are excellent for intertwining instructional text with code and code output.  But...  Jupyter notebooks are absolutely not appropriate for developing large software projects.  Debugging features are crude at best, and there is very little code navigation support.  So I find myself in the position of writing these lessons using one technology (jupyter), yet actively discouraging its use in production.\n",
    "\n",
    "Must features for Python development:\n",
    "* Debugger\n",
    "    * Set breakpoints\n",
    "    * Step over statements\n",
    "    * Step into functions\n",
    "    * Variable value display\n",
    "    * Call stack navigation\n",
    "    * Access to REPL in breakpoints\n",
    "* Code navigation\n",
    "    * Show where symbol (function, variable, class, ...) is defined\n",
    "    * Show references to symbol\n",
    "* Code refactoring\n",
    "    * Rename symbol\n",
    "* Integration into source code control\n",
    "\n",
    "I have used the following environments for developing python:\n",
    "* [PyCharm](https://www.jetbrains.com/pycharm/).  By far my strongest recommendation.  The community edition is excellent (and free).  Students can get an annual license for the Professional edition for free under their academic license program.  Most students *do not* need the Professional edition, unless you are doing serious Python development for the Raspberry Pi.  In which case the remote development and debugging features are well worth a look.\n",
    "* [Spyder](https://www.spyder-ide.org/).  A free python development environment, written in Python. \n",
    "* [Idle](https://docs.python.org/3/library/idle.html).  Far too simple for serious Python development.\n",
    "* [Eclipse](https://www.eclipse.org/) with [Python Plugin](https://marketplace.eclipse.org/content/pydev-python-ide-eclipse).  I absolutely love Eclipse for Java development.  I absolutely hate using Eclipse for Python development."
   ]
  },
  {
   "cell_type": "code",
   "execution_count": null,
   "metadata": {},
   "outputs": [],
   "source": []
  }
 ],
 "metadata": {
  "kernelspec": {
   "display_name": "Python 3",
   "language": "python",
   "name": "python3"
  },
  "language_info": {
   "codemirror_mode": {
    "name": "ipython",
    "version": 3
   },
   "file_extension": ".py",
   "mimetype": "text/x-python",
   "name": "python",
   "nbconvert_exporter": "python",
   "pygments_lexer": "ipython3",
   "version": "3.6.5"
  }
 },
 "nbformat": 4,
 "nbformat_minor": 2
}
